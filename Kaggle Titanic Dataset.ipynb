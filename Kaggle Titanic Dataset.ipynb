{
 "cells": [
  {
   "cell_type": "markdown",
   "metadata": {},
   "source": [
    "Let's play with the Kaggle Titanic data set and Keras"
   ]
  },
  {
   "cell_type": "code",
   "execution_count": 5,
   "metadata": {
    "collapsed": false
   },
   "outputs": [],
   "source": [
    "import numpy as np\n",
    "from keras.models import Sequential\n",
    "from keras.layers import Dense, Dropout, Activation, BatchNormalization\n",
    "from keras.optimizers import Adam\n",
    "from keras.utils import np_utils\n",
    "\n",
    "import csv\n",
    "import re\n",
    "\n",
    "import matplotlib.pyplot as plt"
   ]
  },
  {
   "cell_type": "code",
   "execution_count": 31,
   "metadata": {
    "collapsed": false
   },
   "outputs": [
    {
     "name": "stdout",
     "output_type": "stream",
     "text": [
      "['1', '0', '3', 'Braund, Mr. Owen Harris', 'male', '22', '1', '0', 'A/5 21171', '7.25', '', 'S']\n"
     ]
    }
   ],
   "source": [
    "row_num = 0\n",
    "training_data = []\n",
    "\n",
    "# import training data\n",
    "with open('./data/train.csv', 'r') as train_data:\n",
    "    for line in csv.reader(train_data, delimiter=','):\n",
    "        if row_num > 0:\n",
    "            training_data.append(line)\n",
    "\n",
    "        row_num += 1\n",
    "\n",
    "train_data.close()\n",
    "\n",
    "print(training_data[0])"
   ]
  },
  {
   "cell_type": "code",
   "execution_count": 88,
   "metadata": {
    "collapsed": false
   },
   "outputs": [
    {
     "name": "stdout",
     "output_type": "stream",
     "text": [
      "[1, 0, 0, 1, 0, 0.54, 0.2, 0.0, 0.15256666666666666]\n"
     ]
    }
   ],
   "source": [
    "#pre-process training data\n",
    "x_train = []\n",
    "y_train = []\n",
    "\n",
    "def preprocess_data(all_data, is_test_data = 0):\n",
    "    x_train = []\n",
    "    y_train = []\n",
    "    \n",
    "    classes = [[0, 0, 0], [1, 0, 0], [0, 1, 0], [0, 0, 1]]\n",
    "    gender = {'male': [0, 1], 'female': [1, 0]}\n",
    "\n",
    "    if(is_test_data == 0):\n",
    "        np.random.shuffle(all_data)\n",
    "    \n",
    "    for data in all_data:\n",
    "    \n",
    "        train_vector = []\n",
    "        \n",
    "        if(is_test_data == 0):\n",
    "            y_train.append(int(data[1]))\n",
    "\n",
    "        train_vector.extend(classes[int(data[2])])\n",
    "        train_vector.extend(gender[data[4]])\n",
    "        \n",
    "        if (data[5] != ''):\n",
    "            train_vector.append(float(data[5]) / 100)\n",
    "        else:\n",
    "            train_vector.append(0)\n",
    "            \n",
    "        train_vector.append(float(data[6]) / 5)\n",
    "        train_vector.append(float(data[7]) / 6)        \n",
    "        \n",
    "        if (data[9] != ''):\n",
    "            train_vector.append(float(data[9]) / 513)\n",
    "        else:\n",
    "            train_vector.append(0)\n",
    "        \n",
    "        x_train.append(train_vector)\n",
    "        \n",
    "    return x_train, y_train\n",
    "\n",
    "x_train, y_train = preprocess_data(training_data)\n",
    "print(x_train[0])"
   ]
  },
  {
   "cell_type": "code",
   "execution_count": 89,
   "metadata": {
    "collapsed": true
   },
   "outputs": [],
   "source": [
    "model = Sequential()\n",
    "model.add(Dense(32, input_dim = len(x_train[0]), activation = 'relu'))\n",
    "model.add(Dense(16, activation = 'relu'))\n",
    "model.add(Dense(8, activation = 'relu'))\n",
    "model.add(Dense(1, activation = 'sigmoid'))"
   ]
  },
  {
   "cell_type": "code",
   "execution_count": 90,
   "metadata": {
    "collapsed": true
   },
   "outputs": [],
   "source": [
    "adam = Adam(lr=0.0003)\n",
    "\n",
    "model.compile(loss = 'binary_crossentropy', optimizer = adam, metrics = ['accuracy'])"
   ]
  },
  {
   "cell_type": "code",
   "execution_count": 91,
   "metadata": {
    "collapsed": false
   },
   "outputs": [
    {
     "name": "stdout",
     "output_type": "stream",
     "text": [
      "Train on 846 samples, validate on 45 samples\n",
      "Epoch 1/25\n",
      " - 1s - loss: 0.6587 - acc: 0.7600 - val_loss: 0.6305 - val_acc: 0.7778\n",
      "Epoch 2/25\n",
      " - 0s - loss: 0.6135 - acc: 0.7837 - val_loss: 0.5798 - val_acc: 0.8222\n",
      "Epoch 3/25\n",
      " - 0s - loss: 0.5789 - acc: 0.7742 - val_loss: 0.5417 - val_acc: 0.8222\n",
      "Epoch 4/25\n",
      " - 0s - loss: 0.5404 - acc: 0.7707 - val_loss: 0.4961 - val_acc: 0.8444\n",
      "Epoch 5/25\n",
      " - 0s - loss: 0.5009 - acc: 0.7813 - val_loss: 0.4713 - val_acc: 0.7778\n",
      "Epoch 6/25\n",
      " - 0s - loss: 0.4762 - acc: 0.7896 - val_loss: 0.4553 - val_acc: 0.8000\n",
      "Epoch 7/25\n",
      " - 0s - loss: 0.4622 - acc: 0.7931 - val_loss: 0.4662 - val_acc: 0.7778\n",
      "Epoch 8/25\n",
      " - 0s - loss: 0.4521 - acc: 0.7967 - val_loss: 0.4601 - val_acc: 0.8000\n",
      "Epoch 9/25\n",
      " - 0s - loss: 0.4475 - acc: 0.7979 - val_loss: 0.4594 - val_acc: 0.8222\n",
      "Epoch 10/25\n",
      " - 0s - loss: 0.4446 - acc: 0.8061 - val_loss: 0.4587 - val_acc: 0.8222\n",
      "Epoch 11/25\n",
      " - 0s - loss: 0.4430 - acc: 0.7955 - val_loss: 0.4508 - val_acc: 0.8222\n",
      "Epoch 12/25\n",
      " - 0s - loss: 0.4415 - acc: 0.8061 - val_loss: 0.4557 - val_acc: 0.8444\n",
      "Epoch 13/25\n",
      " - 0s - loss: 0.4395 - acc: 0.8073 - val_loss: 0.4714 - val_acc: 0.8222\n",
      "Epoch 14/25\n",
      " - 0s - loss: 0.4387 - acc: 0.8109 - val_loss: 0.4644 - val_acc: 0.8444\n",
      "Epoch 15/25\n",
      " - 0s - loss: 0.4368 - acc: 0.8085 - val_loss: 0.4573 - val_acc: 0.8667\n",
      "Epoch 16/25\n",
      " - 0s - loss: 0.4361 - acc: 0.8097 - val_loss: 0.4661 - val_acc: 0.8444\n",
      "Epoch 17/25\n",
      " - 0s - loss: 0.4358 - acc: 0.8109 - val_loss: 0.4747 - val_acc: 0.8222\n",
      "Epoch 18/25\n",
      " - 0s - loss: 0.4349 - acc: 0.8097 - val_loss: 0.4651 - val_acc: 0.8444\n",
      "Epoch 19/25\n",
      " - 0s - loss: 0.4335 - acc: 0.8097 - val_loss: 0.4656 - val_acc: 0.8667\n",
      "Epoch 20/25\n",
      " - 0s - loss: 0.4336 - acc: 0.8097 - val_loss: 0.4663 - val_acc: 0.8667\n",
      "Epoch 21/25\n",
      " - 0s - loss: 0.4336 - acc: 0.8109 - val_loss: 0.4580 - val_acc: 0.8667\n",
      "Epoch 22/25\n",
      " - 0s - loss: 0.4337 - acc: 0.8109 - val_loss: 0.4547 - val_acc: 0.8667\n",
      "Epoch 23/25\n",
      " - 0s - loss: 0.4328 - acc: 0.8132 - val_loss: 0.4737 - val_acc: 0.8667\n",
      "Epoch 24/25\n",
      " - 0s - loss: 0.4328 - acc: 0.8061 - val_loss: 0.4607 - val_acc: 0.8667\n",
      "Epoch 25/25\n",
      " - 0s - loss: 0.4318 - acc: 0.8097 - val_loss: 0.4627 - val_acc: 0.8667\n"
     ]
    }
   ],
   "source": [
    "history = model.fit(np.array(x_train), np.array(y_train), validation_split = 0.05, epochs = 25, batch_size = 16, verbose = 2)"
   ]
  },
  {
   "cell_type": "code",
   "execution_count": 92,
   "metadata": {
    "collapsed": false
   },
   "outputs": [
    {
     "data": {
      "image/png": "[encoded data removed]",
      "text/plain": [
       "<matplotlib.figure.Figure at 0x16d554407b8>"
      ]
     },
     "metadata": {},
     "output_type": "display_data"
    }
   ],
   "source": [
    "plt.plot(history.history['acc'])\n",
    "plt.plot(history.history['val_acc'])\n",
    "plt.title('model accuracy')\n",
    "plt.xlabel('epoch')\n",
    "plt.ylabel('accuracy')\n",
    "plt.legend(['train','test'], loc = 'upper left')\n",
    "plt.show()"
   ]
  },
  {
   "cell_type": "code",
   "execution_count": 93,
   "metadata": {
    "collapsed": false
   },
   "outputs": [
    {
     "data": {
      "image/png": "[encoded data removed]",
      "text/plain": [
       "<matplotlib.figure.Figure at 0x16d555ea5c0>"
      ]
     },
     "metadata": {},
     "output_type": "display_data"
    }
   ],
   "source": [
    "plt.plot(history.history['loss'])\n",
    "plt.plot(history.history['val_loss'])\n",
    "plt.title('model loss')\n",
    "plt.xlabel('epoch')\n",
    "plt.ylabel('loss')\n",
    "plt.legend(['train', 'test'], loc = 'upper left')\n",
    "plt.show()"
   ]
  },
  {
   "cell_type": "code",
   "execution_count": 94,
   "metadata": {
    "collapsed": false
   },
   "outputs": [
    {
     "name": "stdout",
     "output_type": "stream",
     "text": [
      "['892', '', '3', 'Kelly, Mr. James', 'male', '34.5', '0', '0', '330911', '7.8292', '', 'Q']\n"
     ]
    }
   ],
   "source": [
    "row_num = 0\n",
    "testing_data = []\n",
    "x_test = []\n",
    "y_test = []\n",
    "\n",
    "# import test data\n",
    "with open('./data/test.csv', 'r') as test_data:\n",
    "    for line in csv.reader(test_data, delimiter=','):\n",
    "        if row_num > 0:\n",
    "            testing_data.append(line)\n",
    "\n",
    "        row_num += 1\n",
    "\n",
    "test_data.close()\n",
    "\n",
    "x_test, y_test = preprocess_data(testing_data, 1)\n",
    "print(testing_data[0])"
   ]
  },
  {
   "cell_type": "code",
   "execution_count": 95,
   "metadata": {
    "collapsed": false
   },
   "outputs": [],
   "source": [
    "preds = model.predict(np.array(x_test))"
   ]
  },
  {
   "cell_type": "code",
   "execution_count": 96,
   "metadata": {
    "collapsed": false
   },
   "outputs": [
    {
     "name": "stdout",
     "output_type": "stream",
     "text": [
      "[0, 0, 0, 0, 0, 0, 1, 0, 1, 0, 0, 0, 1, 0, 1, 1, 0, 0, 0, 0, 0, 0, 1, 0, 1, 0, 1, 0, 0, 0, 0, 0, 0, 1, 0, 0, 1, 1, 0, 0, 0, 0, 0, 1, 1, 0, 0, 0, 1, 0, 0, 0, 1, 1, 0, 0, 0, 0, 0, 1, 0, 0, 0, 1, 1, 1, 1, 0, 0, 1, 1, 0, 1, 0, 1, 0, 0, 1, 0, 1, 0, 0, 0, 0, 0, 0, 1, 1, 1, 0, 1, 0, 1, 0, 0, 0, 1, 0, 1, 0, 1, 0, 0, 0, 0, 0, 0, 0, 0, 0, 0, 1, 1, 1, 1, 0, 0, 1, 0, 1, 1, 0, 1, 0, 0, 1, 0, 1, 0, 0, 0, 0, 0, 0, 0, 0, 0, 0, 1, 0, 0, 1, 0, 0, 0, 0, 0, 0, 0, 0, 1, 0, 0, 0, 0, 0, 1, 1, 0, 0, 1, 0, 1, 0, 0, 0, 0, 0, 1, 1, 0, 0, 0, 0, 0, 1, 1, 0, 1, 1, 0, 0, 1, 0, 1, 0, 1, 0, 0, 0, 0, 0, 0, 0, 0, 0, 1, 1, 0, 1, 1, 0, 0, 1, 0, 0, 1, 0, 1, 0, 0, 0, 0, 1, 0, 0, 1, 0, 1, 0, 1, 0, 1, 0, 1, 1, 0, 1, 0, 0, 0, 1, 0, 0, 0, 0, 0, 0, 1, 1, 1, 1, 0, 0, 0, 0, 1, 0, 1, 1, 1, 0, 0, 0, 0, 0, 0, 0, 1, 0, 0, 0, 1, 1, 0, 0, 0, 0, 1, 0, 0, 0, 1, 1, 0, 1, 0, 0, 0, 0, 1, 0, 1, 1, 1, 0, 0, 0, 0, 0, 0, 1, 0, 0, 0, 0, 1, 0, 0, 0, 0, 0, 0, 0, 1, 1, 0, 0, 0, 0, 0, 0, 0, 0, 1, 1, 0, 0, 0, 0, 0, 0, 0, 0, 1, 0, 1, 0, 0, 0, 1, 0, 0, 0, 0, 0, 0, 0, 0, 0, 0, 0, 0, 1, 0, 1, 0, 0, 0, 1, 1, 0, 0, 0, 0, 0, 1, 0, 0, 0, 0, 1, 1, 0, 1, 0, 0, 1, 1, 0, 0, 1, 0, 0, 1, 1, 0, 0, 0, 0, 0, 0, 1, 1, 0, 1, 0, 0, 0, 0, 0, 1, 0, 0, 0, 1, 0, 1, 0, 0, 1, 0, 1, 0, 0, 0, 0, 0, 1, 1, 1, 1, 1, 0, 1, 0, 0, 0]\n"
     ]
    }
   ],
   "source": [
    "p_a = [int(round(pred[0])) for pred in preds]\n",
    "print(p_a)"
   ]
  },
  {
   "cell_type": "code",
   "execution_count": 105,
   "metadata": {
    "collapsed": false
   },
   "outputs": [
    {
     "name": "stdout",
     "output_type": "stream",
     "text": [
      "['902', 0]\n"
     ]
    }
   ],
   "source": [
    "submission_data = []\n",
    "\n",
    "idx = 0\n",
    "\n",
    "for prediction in p_a:\n",
    "    submission_data.append([testing_data[idx][0], prediction])\n",
    "    idx += 1\n",
    "\n",
    "print(submission_data[10])"
   ]
  },
  {
   "cell_type": "code",
   "execution_count": 109,
   "metadata": {
    "collapsed": false
   },
   "outputs": [],
   "source": [
    "with open('./data/submission.csv', 'w', newline='') as submit_file:\n",
    "    wr = csv.writer(submit_file, quoting=csv.QUOTE_ALL)\n",
    "    wr.writerows(submission_data)"
   ]
  },
  {
   "cell_type": "code",
   "execution_count": null,
   "metadata": {
    "collapsed": true
   },
   "outputs": [],
   "source": []
  }
 ],
 "metadata": {
  "kernelspec": {
   "display_name": "Python 3",
   "language": "python",
   "name": "python3"
  },
  "language_info": {
   "codemirror_mode": {
    "name": "ipython",
    "version": 3
   },
   "file_extension": ".py",
   "mimetype": "text/x-python",
   "name": "python",
   "nbconvert_exporter": "python",
   "pygments_lexer": "ipython3",
   "version": "3.5.2"
  }
 },
 "nbformat": 4,
 "nbformat_minor": 2
}
