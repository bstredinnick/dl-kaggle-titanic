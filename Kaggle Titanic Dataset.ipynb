{
 "cells": [
  {
   "cell_type": "markdown",
   "metadata": {},
   "source": [
    "Let's play with the Kaggle Titanic data set and Keras"
   ]
  },
  {
   "cell_type": "code",
   "execution_count": 490,
   "metadata": {
    "collapsed": false
   },
   "outputs": [],
   "source": [
    "import numpy as np\n",
    "from keras.models import Sequential\n",
    "from keras.layers import Dense, Dropout, Activation, BatchNormalization, MaxPooling2D\n",
    "from keras.optimizers import Adam\n",
    "from keras.utils import np_utils\n",
    "\n",
    "import csv\n",
    "import re\n",
    "from sklearn import preprocessing\n",
    "from scipy import stats\n",
    "\n",
    "import matplotlib.pyplot as plt\n",
    "import seaborn as sns\n",
    "\n",
    "from collections import Counter"
   ]
  },
  {
   "cell_type": "code",
   "execution_count": 529,
   "metadata": {
    "collapsed": false
   },
   "outputs": [
    {
     "name": "stdout",
     "output_type": "stream",
     "text": [
      "['1', '0', '3', 'Braund, Mr. Owen Harris', 'male', '22', '1', '0', 'A/5 21171', '7.25', '', 'S']\n"
     ]
    }
   ],
   "source": [
    "row_num = 0\n",
    "training_data = []\n",
    "\n",
    "# import training data\n",
    "with open('./data/train.csv', 'r') as train_data:\n",
    "    for line in csv.reader(train_data, delimiter=','):\n",
    "        if row_num > 0:\n",
    "            training_data.append(line)\n",
    "\n",
    "        row_num += 1\n",
    "\n",
    "train_data.close()\n",
    "\n",
    "print(training_data[0])"
   ]
  },
  {
   "cell_type": "code",
   "execution_count": 315,
   "metadata": {
    "collapsed": false
   },
   "outputs": [],
   "source": [
    "age_data = []\n",
    "row_idx = 0\n",
    "\n",
    "for person_data in training_data:\n",
    "    if(person_data[5] == ''):\n",
    "        age_data.append(0.)\n",
    "    else:\n",
    "        age_data.append(float(person_data[5]))\n",
    "    row_idx = row_idx + 1\n",
    "    \n",
    "#normaliser = preprocessing.Normalizer().fit(classes)\n",
    "#classes_normalised = normaliser.transform(classes)\n",
    "#classes_scaled = preprocessing.scale(classes)\n",
    "\n",
    "\n",
    "#plt.hist(classes)\n",
    "#plt.show()\n",
    "\n",
    "#fig, ax = plt.subplots(1, 2)\n",
    "#sns.distplot(classes, ax = ax[0])\n",
    "#ax[0].set_title('Class Data - Original')\n",
    "#sns.distplot(classes_normalised, ax = ax[1])\n",
    "#ax[1].set_title('Class Data - Normalise')\n",
    "#sns.distplot(classes_scaled, ax = ax[1])\n",
    "#ax[1].set_title('Class Data - Scaled')\n",
    "\n",
    "#plt.show()"
   ]
  },
  {
   "cell_type": "code",
   "execution_count": 550,
   "metadata": {
    "collapsed": false
   },
   "outputs": [
    {
     "name": "stdout",
     "output_type": "stream",
     "text": [
      "[ 0.          0.          0.40594059  0.          0.        ]\n"
     ]
    },
    {
     "name": "stderr",
     "output_type": "stream",
     "text": [
      "C:\\MiniConda\\envs\\dlnd\\lib\\site-packages\\sklearn\\preprocessing\\data.py:321: DeprecationWarning: Passing 1d arrays as data is deprecated in 0.17 and will raise ValueError in 0.19. Reshape your data either using X.reshape(-1, 1) if your data has a single feature or X.reshape(1, -1) if it contains a single sample.\n",
      "  warnings.warn(DEPRECATION_MSG_1D, DeprecationWarning)\n",
      "C:\\MiniConda\\envs\\dlnd\\lib\\site-packages\\sklearn\\preprocessing\\data.py:321: DeprecationWarning: Passing 1d arrays as data is deprecated in 0.17 and will raise ValueError in 0.19. Reshape your data either using X.reshape(-1, 1) if your data has a single feature or X.reshape(1, -1) if it contains a single sample.\n",
      "  warnings.warn(DEPRECATION_MSG_1D, DeprecationWarning)\n",
      "C:\\MiniConda\\envs\\dlnd\\lib\\site-packages\\sklearn\\preprocessing\\data.py:356: DeprecationWarning: Passing 1d arrays as data is deprecated in 0.17 and will raise ValueError in 0.19. Reshape your data either using X.reshape(-1, 1) if your data has a single feature or X.reshape(1, -1) if it contains a single sample.\n",
      "  warnings.warn(DEPRECATION_MSG_1D, DeprecationWarning)\n",
      "C:\\MiniConda\\envs\\dlnd\\lib\\site-packages\\sklearn\\preprocessing\\data.py:356: DeprecationWarning: Passing 1d arrays as data is deprecated in 0.17 and will raise ValueError in 0.19. Reshape your data either using X.reshape(-1, 1) if your data has a single feature or X.reshape(1, -1) if it contains a single sample.\n",
      "  warnings.warn(DEPRECATION_MSG_1D, DeprecationWarning)\n",
      "C:\\MiniConda\\envs\\dlnd\\lib\\site-packages\\sklearn\\preprocessing\\data.py:356: DeprecationWarning: Passing 1d arrays as data is deprecated in 0.17 and will raise ValueError in 0.19. Reshape your data either using X.reshape(-1, 1) if your data has a single feature or X.reshape(1, -1) if it contains a single sample.\n",
      "  warnings.warn(DEPRECATION_MSG_1D, DeprecationWarning)\n"
     ]
    }
   ],
   "source": [
    "#pre-process training data\n",
    "x_train = []\n",
    "y_train = []\n",
    "\n",
    "def FloatOrZero(value):\n",
    "    try:\n",
    "        return float(value)\n",
    "    except:\n",
    "        return 0.0\n",
    "\n",
    "def preprocess_data(all_data, is_test_data = 0):\n",
    "    \n",
    "    x_train = np.empty((len(all_data), 5))\n",
    "    y_train = np.empty((len(all_data), 1))\n",
    "    \n",
    "    class_encoder = preprocessing.LabelEncoder()\n",
    "    class_encoder.fit(['1', '2', '3'])\n",
    "    \n",
    "    gender_encoder = preprocessing.LabelEncoder()\n",
    "    gender_encoder.fit(['male', 'female'])\n",
    "\n",
    "    age_scaler = preprocessing.MinMaxScaler()\n",
    "    age_scaler.fit([-1., 100.])\n",
    "    \n",
    "    sibling_parch_scaler = preprocessing.MinMaxScaler()\n",
    "    sibling_parch_scaler.fit([0., 10.])\n",
    "    \n",
    "    all_data = np.array(all_data)    \n",
    "    \n",
    "    if(is_test_data == 0):\n",
    "        np.random.shuffle(all_data)\n",
    "    \n",
    "    age_data = map(FloatOrZero, all_data[:, 5])\n",
    "    all_data[:, 5] = np.array(list(age_data))\n",
    "    all_data[:, 6] = all_data[:, 6].astype(np.float)\n",
    "    all_data[:, 7] = all_data[:, 7].astype(np.float)\n",
    "    \n",
    "    x_train[:, 0] = class_encoder.transform(all_data[:, 2])\n",
    "    x_train[:, 1] = gender_encoder.transform(all_data[:, 4])\n",
    "    x_train[:, 2] = age_scaler.transform(all_data[:, 5])\n",
    "    x_train[:, 3] = sibling_parch_scaler.transform(all_data[:, 6])\n",
    "    x_train[:, 4] = sibling_parch_scaler.transform(all_data[:, 7])\n",
    "    \n",
    "    if(is_test_data == 0):\n",
    "        y_train = all_data[:, 1]\n",
    "        \n",
    "    return x_train, y_train\n",
    "\n",
    "x_train, y_train = preprocess_data(training_data)\n",
    "print(x_train[0])"
   ]
  },
  {
   "cell_type": "code",
   "execution_count": 611,
   "metadata": {
    "collapsed": false
   },
   "outputs": [],
   "source": [
    "model = Sequential()\n",
    "model.add(Dense(32, input_dim = len(x_train[0]), activation = 'relu'))\n",
    "model.add(BatchNormalization())\n",
    "model.add(Dense(16, activation = 'relu'))\n",
    "model.add(Dropout(0.2))\n",
    "model.add(Dense(8, activation = 'relu'))\n",
    "#model.add(Dropout(0.2))\n",
    "model.add(Dense(1, activation = 'sigmoid'))"
   ]
  },
  {
   "cell_type": "code",
   "execution_count": 612,
   "metadata": {
    "collapsed": true
   },
   "outputs": [],
   "source": [
    "adam = Adam(lr=0.0003, decay=0.00000001)\n",
    "\n",
    "model.compile(loss = 'binary_crossentropy', optimizer = adam, metrics = ['accuracy'])"
   ]
  },
  {
   "cell_type": "code",
   "execution_count": 613,
   "metadata": {
    "collapsed": false
   },
   "outputs": [
    {
     "name": "stdout",
     "output_type": "stream",
     "text": [
      "Train on 757 samples, validate on 134 samples\n",
      "Epoch 1/150\n",
      " - 8s - loss: 0.6549 - acc: 0.6196 - val_loss: 0.6322 - val_acc: 0.6940\n",
      "Epoch 2/150\n",
      " - 0s - loss: 0.6172 - acc: 0.6803 - val_loss: 0.5939 - val_acc: 0.7388\n",
      "Epoch 3/150\n",
      " - 0s - loss: 0.6021 - acc: 0.7081 - val_loss: 0.5631 - val_acc: 0.7388\n",
      "Epoch 4/150\n",
      " - 0s - loss: 0.5556 - acc: 0.7345 - val_loss: 0.5435 - val_acc: 0.7388\n",
      "Epoch 5/150\n",
      " - 0s - loss: 0.5418 - acc: 0.7609 - val_loss: 0.5275 - val_acc: 0.7239\n",
      "Epoch 6/150\n",
      " - 0s - loss: 0.5274 - acc: 0.7490 - val_loss: 0.5149 - val_acc: 0.7761\n",
      "Epoch 7/150\n",
      " - 0s - loss: 0.5099 - acc: 0.7635 - val_loss: 0.5065 - val_acc: 0.7836\n",
      "Epoch 8/150\n",
      " - 0s - loss: 0.5107 - acc: 0.7688 - val_loss: 0.4998 - val_acc: 0.7836\n",
      "Epoch 9/150\n",
      " - 0s - loss: 0.4951 - acc: 0.7754 - val_loss: 0.4939 - val_acc: 0.7836\n",
      "Epoch 10/150\n",
      " - 0s - loss: 0.4809 - acc: 0.7675 - val_loss: 0.4889 - val_acc: 0.7836\n",
      "Epoch 11/150\n",
      " - 0s - loss: 0.4867 - acc: 0.7952 - val_loss: 0.4865 - val_acc: 0.7836\n",
      "Epoch 12/150\n",
      " - 0s - loss: 0.4808 - acc: 0.7728 - val_loss: 0.4842 - val_acc: 0.7836\n",
      "Epoch 13/150\n",
      " - 0s - loss: 0.4704 - acc: 0.7886 - val_loss: 0.4830 - val_acc: 0.7836\n",
      "Epoch 14/150\n",
      " - 0s - loss: 0.4738 - acc: 0.7926 - val_loss: 0.4802 - val_acc: 0.7836\n",
      "Epoch 15/150\n",
      " - 0s - loss: 0.4617 - acc: 0.7952 - val_loss: 0.4793 - val_acc: 0.7836\n",
      "Epoch 16/150\n",
      " - 0s - loss: 0.4659 - acc: 0.7873 - val_loss: 0.4767 - val_acc: 0.7836\n",
      "Epoch 17/150\n",
      " - 0s - loss: 0.4700 - acc: 0.7926 - val_loss: 0.4752 - val_acc: 0.7836\n",
      "Epoch 18/150\n",
      " - 0s - loss: 0.4563 - acc: 0.8045 - val_loss: 0.4749 - val_acc: 0.7836\n",
      "Epoch 19/150\n",
      " - 0s - loss: 0.4399 - acc: 0.8058 - val_loss: 0.4735 - val_acc: 0.7836\n",
      "Epoch 20/150\n",
      " - 0s - loss: 0.4564 - acc: 0.7900 - val_loss: 0.4730 - val_acc: 0.7836\n",
      "Epoch 21/150\n",
      " - 0s - loss: 0.4422 - acc: 0.7886 - val_loss: 0.4707 - val_acc: 0.7910\n",
      "Epoch 22/150\n",
      " - 0s - loss: 0.4452 - acc: 0.8018 - val_loss: 0.4702 - val_acc: 0.7910\n",
      "Epoch 23/150\n",
      " - 0s - loss: 0.4601 - acc: 0.7860 - val_loss: 0.4706 - val_acc: 0.7910\n",
      "Epoch 24/150\n",
      " - 0s - loss: 0.4432 - acc: 0.7952 - val_loss: 0.4729 - val_acc: 0.7910\n",
      "Epoch 25/150\n",
      " - 0s - loss: 0.4411 - acc: 0.7900 - val_loss: 0.4723 - val_acc: 0.7910\n",
      "Epoch 26/150\n",
      " - 0s - loss: 0.4475 - acc: 0.8032 - val_loss: 0.4713 - val_acc: 0.7910\n",
      "Epoch 27/150\n",
      " - 0s - loss: 0.4398 - acc: 0.8018 - val_loss: 0.4707 - val_acc: 0.8060\n",
      "Epoch 28/150\n",
      " - 0s - loss: 0.4321 - acc: 0.8058 - val_loss: 0.4705 - val_acc: 0.8060\n",
      "Epoch 29/150\n",
      " - 0s - loss: 0.4388 - acc: 0.8018 - val_loss: 0.4703 - val_acc: 0.8060\n",
      "Epoch 30/150\n",
      " - 0s - loss: 0.4372 - acc: 0.8005 - val_loss: 0.4710 - val_acc: 0.8060\n",
      "Epoch 31/150\n",
      " - 0s - loss: 0.4383 - acc: 0.8018 - val_loss: 0.4725 - val_acc: 0.8060\n",
      "Epoch 32/150\n",
      " - 0s - loss: 0.4407 - acc: 0.8032 - val_loss: 0.4721 - val_acc: 0.8134\n",
      "Epoch 33/150\n",
      " - 0s - loss: 0.4442 - acc: 0.7913 - val_loss: 0.4718 - val_acc: 0.8209\n",
      "Epoch 34/150\n",
      " - 0s - loss: 0.4317 - acc: 0.8098 - val_loss: 0.4721 - val_acc: 0.8209\n",
      "Epoch 35/150\n",
      " - 0s - loss: 0.4314 - acc: 0.8032 - val_loss: 0.4718 - val_acc: 0.8209\n",
      "Epoch 36/150\n",
      " - 0s - loss: 0.4434 - acc: 0.8032 - val_loss: 0.4698 - val_acc: 0.8209\n",
      "Epoch 37/150\n",
      " - 0s - loss: 0.4452 - acc: 0.8005 - val_loss: 0.4695 - val_acc: 0.8209\n",
      "Epoch 38/150\n",
      " - 0s - loss: 0.4293 - acc: 0.8085 - val_loss: 0.4685 - val_acc: 0.8209\n",
      "Epoch 39/150\n",
      " - 0s - loss: 0.4315 - acc: 0.8085 - val_loss: 0.4694 - val_acc: 0.8209\n",
      "Epoch 40/150\n",
      " - 0s - loss: 0.4308 - acc: 0.8217 - val_loss: 0.4683 - val_acc: 0.8209\n",
      "Epoch 41/150\n",
      " - 0s - loss: 0.4222 - acc: 0.8085 - val_loss: 0.4677 - val_acc: 0.8284\n",
      "Epoch 42/150\n",
      " - 0s - loss: 0.4309 - acc: 0.8098 - val_loss: 0.4679 - val_acc: 0.8358\n",
      "Epoch 43/150\n",
      " - 0s - loss: 0.4246 - acc: 0.8203 - val_loss: 0.4685 - val_acc: 0.8358\n",
      "Epoch 44/150\n",
      " - 0s - loss: 0.4295 - acc: 0.8085 - val_loss: 0.4692 - val_acc: 0.8358\n",
      "Epoch 45/150\n",
      " - 0s - loss: 0.4283 - acc: 0.8256 - val_loss: 0.4679 - val_acc: 0.8358\n",
      "Epoch 46/150\n",
      " - 0s - loss: 0.4296 - acc: 0.8085 - val_loss: 0.4674 - val_acc: 0.8358\n",
      "Epoch 47/150\n",
      " - 0s - loss: 0.4220 - acc: 0.8071 - val_loss: 0.4686 - val_acc: 0.8358\n",
      "Epoch 48/150\n",
      " - 0s - loss: 0.4263 - acc: 0.8058 - val_loss: 0.4685 - val_acc: 0.8358\n",
      "Epoch 49/150\n",
      " - 0s - loss: 0.4237 - acc: 0.8111 - val_loss: 0.4674 - val_acc: 0.8358\n",
      "Epoch 50/150\n",
      " - 0s - loss: 0.4270 - acc: 0.8151 - val_loss: 0.4667 - val_acc: 0.8358\n",
      "Epoch 51/150\n",
      " - 0s - loss: 0.4243 - acc: 0.8243 - val_loss: 0.4672 - val_acc: 0.8358\n",
      "Epoch 52/150\n",
      " - 0s - loss: 0.4296 - acc: 0.8217 - val_loss: 0.4667 - val_acc: 0.8358\n",
      "Epoch 53/150\n",
      " - 0s - loss: 0.4232 - acc: 0.8177 - val_loss: 0.4668 - val_acc: 0.8358\n",
      "Epoch 54/150\n",
      " - 0s - loss: 0.4254 - acc: 0.8071 - val_loss: 0.4654 - val_acc: 0.8358\n",
      "Epoch 55/150\n",
      " - 0s - loss: 0.4319 - acc: 0.8217 - val_loss: 0.4636 - val_acc: 0.8358\n",
      "Epoch 56/150\n",
      " - 0s - loss: 0.4211 - acc: 0.8124 - val_loss: 0.4633 - val_acc: 0.8358\n",
      "Epoch 57/150\n",
      " - 0s - loss: 0.4181 - acc: 0.8098 - val_loss: 0.4627 - val_acc: 0.8358\n",
      "Epoch 58/150\n",
      " - 0s - loss: 0.4226 - acc: 0.8256 - val_loss: 0.4622 - val_acc: 0.8358\n",
      "Epoch 59/150\n",
      " - 0s - loss: 0.4208 - acc: 0.8137 - val_loss: 0.4634 - val_acc: 0.8358\n",
      "Epoch 60/150\n",
      " - 0s - loss: 0.4249 - acc: 0.8190 - val_loss: 0.4638 - val_acc: 0.8358\n",
      "Epoch 61/150\n",
      " - 0s - loss: 0.4167 - acc: 0.8283 - val_loss: 0.4619 - val_acc: 0.8358\n",
      "Epoch 62/150\n",
      " - 0s - loss: 0.4190 - acc: 0.8164 - val_loss: 0.4608 - val_acc: 0.8358\n",
      "Epoch 63/150\n",
      " - 0s - loss: 0.4093 - acc: 0.8243 - val_loss: 0.4590 - val_acc: 0.8358\n",
      "Epoch 64/150\n",
      " - 0s - loss: 0.4109 - acc: 0.8296 - val_loss: 0.4623 - val_acc: 0.8358\n",
      "Epoch 65/150\n",
      " - 0s - loss: 0.4160 - acc: 0.8230 - val_loss: 0.4636 - val_acc: 0.8358\n",
      "Epoch 66/150\n",
      " - 0s - loss: 0.4176 - acc: 0.8137 - val_loss: 0.4585 - val_acc: 0.8358\n",
      "Epoch 67/150\n",
      " - 0s - loss: 0.4298 - acc: 0.8071 - val_loss: 0.4575 - val_acc: 0.8358\n",
      "Epoch 68/150\n",
      " - 0s - loss: 0.4099 - acc: 0.8203 - val_loss: 0.4570 - val_acc: 0.8358\n",
      "Epoch 69/150\n",
      " - 0s - loss: 0.4118 - acc: 0.8243 - val_loss: 0.4566 - val_acc: 0.8358\n",
      "Epoch 70/150\n",
      " - 0s - loss: 0.4106 - acc: 0.8177 - val_loss: 0.4573 - val_acc: 0.8358\n",
      "Epoch 71/150\n",
      " - 0s - loss: 0.4111 - acc: 0.8256 - val_loss: 0.4565 - val_acc: 0.8358\n",
      "Epoch 72/150\n",
      " - 0s - loss: 0.4156 - acc: 0.8269 - val_loss: 0.4567 - val_acc: 0.8358\n",
      "Epoch 73/150\n",
      " - 0s - loss: 0.4040 - acc: 0.8269 - val_loss: 0.4546 - val_acc: 0.8358\n",
      "Epoch 74/150\n",
      " - 0s - loss: 0.4201 - acc: 0.8269 - val_loss: 0.4559 - val_acc: 0.8358\n",
      "Epoch 75/150\n",
      " - 0s - loss: 0.4301 - acc: 0.8203 - val_loss: 0.4562 - val_acc: 0.8358\n",
      "Epoch 76/150\n",
      " - 0s - loss: 0.4173 - acc: 0.8177 - val_loss: 0.4545 - val_acc: 0.8358\n",
      "Epoch 77/150\n",
      " - 0s - loss: 0.4188 - acc: 0.8269 - val_loss: 0.4531 - val_acc: 0.8358\n",
      "Epoch 78/150\n",
      " - 0s - loss: 0.4132 - acc: 0.8071 - val_loss: 0.4534 - val_acc: 0.8358\n",
      "Epoch 79/150\n",
      " - 0s - loss: 0.4106 - acc: 0.8177 - val_loss: 0.4525 - val_acc: 0.8358\n",
      "Epoch 80/150\n",
      " - 0s - loss: 0.4085 - acc: 0.8230 - val_loss: 0.4526 - val_acc: 0.8358\n",
      "Epoch 81/150\n",
      " - 0s - loss: 0.4109 - acc: 0.8269 - val_loss: 0.4523 - val_acc: 0.8358\n",
      "Epoch 82/150\n",
      " - 0s - loss: 0.4102 - acc: 0.8243 - val_loss: 0.4540 - val_acc: 0.8358\n",
      "Epoch 83/150\n",
      " - 0s - loss: 0.4090 - acc: 0.8230 - val_loss: 0.4550 - val_acc: 0.8358\n",
      "Epoch 84/150\n",
      " - 0s - loss: 0.4109 - acc: 0.8243 - val_loss: 0.4546 - val_acc: 0.8358\n",
      "Epoch 85/150\n",
      " - 0s - loss: 0.4174 - acc: 0.8256 - val_loss: 0.4544 - val_acc: 0.8358\n",
      "Epoch 86/150\n",
      " - 0s - loss: 0.4106 - acc: 0.8309 - val_loss: 0.4549 - val_acc: 0.8358\n",
      "Epoch 87/150\n",
      " - 0s - loss: 0.4016 - acc: 0.8217 - val_loss: 0.4548 - val_acc: 0.8358\n",
      "Epoch 88/150\n",
      " - 0s - loss: 0.4072 - acc: 0.8336 - val_loss: 0.4549 - val_acc: 0.8358\n",
      "Epoch 89/150\n",
      " - 0s - loss: 0.4127 - acc: 0.8190 - val_loss: 0.4545 - val_acc: 0.8358\n",
      "Epoch 90/150\n",
      " - 0s - loss: 0.4053 - acc: 0.8243 - val_loss: 0.4542 - val_acc: 0.8358\n",
      "Epoch 91/150\n",
      " - 0s - loss: 0.4117 - acc: 0.8296 - val_loss: 0.4544 - val_acc: 0.8358\n",
      "Epoch 92/150\n",
      " - 0s - loss: 0.4179 - acc: 0.8243 - val_loss: 0.4538 - val_acc: 0.8358\n",
      "Epoch 93/150\n",
      " - 0s - loss: 0.4031 - acc: 0.8269 - val_loss: 0.4539 - val_acc: 0.8358\n",
      "Epoch 94/150\n",
      " - 0s - loss: 0.3966 - acc: 0.8375 - val_loss: 0.4536 - val_acc: 0.8358\n",
      "Epoch 95/150\n",
      " - 0s - loss: 0.4104 - acc: 0.8177 - val_loss: 0.4537 - val_acc: 0.8358\n",
      "Epoch 96/150\n",
      " - 0s - loss: 0.4014 - acc: 0.8177 - val_loss: 0.4538 - val_acc: 0.8358\n",
      "Epoch 97/150\n",
      " - 0s - loss: 0.3987 - acc: 0.8283 - val_loss: 0.4519 - val_acc: 0.8358\n",
      "Epoch 98/150\n",
      " - 0s - loss: 0.4106 - acc: 0.8243 - val_loss: 0.4516 - val_acc: 0.8358\n",
      "Epoch 99/150\n",
      " - 0s - loss: 0.3906 - acc: 0.8322 - val_loss: 0.4515 - val_acc: 0.8358\n",
      "Epoch 100/150\n",
      " - 0s - loss: 0.3968 - acc: 0.8217 - val_loss: 0.4507 - val_acc: 0.8358\n",
      "Epoch 101/150\n",
      " - 0s - loss: 0.3951 - acc: 0.8243 - val_loss: 0.4522 - val_acc: 0.8358\n",
      "Epoch 102/150\n",
      " - 0s - loss: 0.3941 - acc: 0.8375 - val_loss: 0.4521 - val_acc: 0.8358\n",
      "Epoch 103/150\n",
      " - 0s - loss: 0.3979 - acc: 0.8283 - val_loss: 0.4538 - val_acc: 0.8358\n",
      "Epoch 104/150\n",
      " - 0s - loss: 0.4107 - acc: 0.8309 - val_loss: 0.4519 - val_acc: 0.8358\n",
      "Epoch 105/150\n",
      " - 0s - loss: 0.3936 - acc: 0.8256 - val_loss: 0.4518 - val_acc: 0.8358\n",
      "Epoch 106/150\n",
      " - 0s - loss: 0.4064 - acc: 0.8230 - val_loss: 0.4523 - val_acc: 0.8358\n",
      "Epoch 107/150\n",
      " - 0s - loss: 0.3901 - acc: 0.8415 - val_loss: 0.4510 - val_acc: 0.8358\n",
      "Epoch 108/150\n",
      " - 0s - loss: 0.3963 - acc: 0.8256 - val_loss: 0.4504 - val_acc: 0.8358\n",
      "Epoch 109/150\n",
      " - 0s - loss: 0.3984 - acc: 0.8256 - val_loss: 0.4500 - val_acc: 0.8358\n",
      "Epoch 110/150\n",
      " - 0s - loss: 0.3978 - acc: 0.8217 - val_loss: 0.4516 - val_acc: 0.8358\n",
      "Epoch 111/150\n",
      " - 0s - loss: 0.3918 - acc: 0.8269 - val_loss: 0.4509 - val_acc: 0.8358\n",
      "Epoch 112/150\n",
      " - 0s - loss: 0.4050 - acc: 0.8256 - val_loss: 0.4508 - val_acc: 0.8358\n",
      "Epoch 113/150\n",
      " - 0s - loss: 0.4022 - acc: 0.8217 - val_loss: 0.4486 - val_acc: 0.8358\n",
      "Epoch 114/150\n",
      " - 0s - loss: 0.3886 - acc: 0.8336 - val_loss: 0.4495 - val_acc: 0.8358\n",
      "Epoch 115/150\n",
      " - 0s - loss: 0.4075 - acc: 0.8243 - val_loss: 0.4506 - val_acc: 0.8358\n",
      "Epoch 116/150\n",
      " - 0s - loss: 0.3937 - acc: 0.8322 - val_loss: 0.4508 - val_acc: 0.8358\n",
      "Epoch 117/150\n",
      " - 0s - loss: 0.3946 - acc: 0.8322 - val_loss: 0.4501 - val_acc: 0.8433\n",
      "Epoch 118/150\n",
      " - 0s - loss: 0.3976 - acc: 0.8388 - val_loss: 0.4492 - val_acc: 0.8433\n",
      "Epoch 119/150\n",
      " - 0s - loss: 0.3991 - acc: 0.8230 - val_loss: 0.4522 - val_acc: 0.8358\n",
      "Epoch 120/150\n",
      " - 0s - loss: 0.3936 - acc: 0.8283 - val_loss: 0.4509 - val_acc: 0.8358\n",
      "Epoch 121/150\n",
      " - 0s - loss: 0.4035 - acc: 0.8309 - val_loss: 0.4493 - val_acc: 0.8358\n",
      "Epoch 122/150\n",
      " - 0s - loss: 0.3878 - acc: 0.8243 - val_loss: 0.4493 - val_acc: 0.8358\n",
      "Epoch 123/150\n",
      " - 0s - loss: 0.4059 - acc: 0.8256 - val_loss: 0.4499 - val_acc: 0.8358\n",
      "Epoch 124/150\n",
      " - 0s - loss: 0.3985 - acc: 0.8309 - val_loss: 0.4477 - val_acc: 0.8358\n",
      "Epoch 125/150\n",
      " - 0s - loss: 0.3880 - acc: 0.8336 - val_loss: 0.4477 - val_acc: 0.8433\n",
      "Epoch 126/150\n",
      " - 0s - loss: 0.3919 - acc: 0.8375 - val_loss: 0.4469 - val_acc: 0.8358\n",
      "Epoch 127/150\n",
      " - 0s - loss: 0.3902 - acc: 0.8322 - val_loss: 0.4489 - val_acc: 0.8358\n",
      "Epoch 128/150\n",
      " - 0s - loss: 0.3947 - acc: 0.8243 - val_loss: 0.4503 - val_acc: 0.8358\n",
      "Epoch 129/150\n",
      " - 0s - loss: 0.3924 - acc: 0.8230 - val_loss: 0.4474 - val_acc: 0.8358\n",
      "Epoch 130/150\n",
      " - 0s - loss: 0.3904 - acc: 0.8309 - val_loss: 0.4479 - val_acc: 0.8358\n",
      "Epoch 131/150\n",
      " - 0s - loss: 0.3879 - acc: 0.8336 - val_loss: 0.4482 - val_acc: 0.8284\n",
      "Epoch 132/150\n",
      " - 0s - loss: 0.3898 - acc: 0.8322 - val_loss: 0.4490 - val_acc: 0.8284\n",
      "Epoch 133/150\n",
      " - 0s - loss: 0.3897 - acc: 0.8283 - val_loss: 0.4487 - val_acc: 0.8284\n",
      "Epoch 134/150\n",
      " - 0s - loss: 0.3877 - acc: 0.8322 - val_loss: 0.4491 - val_acc: 0.8284\n",
      "Epoch 135/150\n",
      " - 0s - loss: 0.3980 - acc: 0.8230 - val_loss: 0.4499 - val_acc: 0.8284\n",
      "Epoch 136/150\n",
      " - 0s - loss: 0.3987 - acc: 0.8296 - val_loss: 0.4485 - val_acc: 0.8284\n",
      "Epoch 137/150\n",
      " - 0s - loss: 0.3826 - acc: 0.8415 - val_loss: 0.4476 - val_acc: 0.8358\n",
      "Epoch 138/150\n",
      " - 0s - loss: 0.3839 - acc: 0.8349 - val_loss: 0.4492 - val_acc: 0.8284\n",
      "Epoch 139/150\n",
      " - 0s - loss: 0.3980 - acc: 0.8256 - val_loss: 0.4487 - val_acc: 0.8284\n",
      "Epoch 140/150\n",
      " - 0s - loss: 0.3887 - acc: 0.8402 - val_loss: 0.4471 - val_acc: 0.8358\n",
      "Epoch 141/150\n",
      " - 0s - loss: 0.3955 - acc: 0.8336 - val_loss: 0.4475 - val_acc: 0.8358\n",
      "Epoch 142/150\n",
      " - 0s - loss: 0.3843 - acc: 0.8362 - val_loss: 0.4478 - val_acc: 0.8284\n",
      "Epoch 143/150\n",
      " - 0s - loss: 0.3878 - acc: 0.8309 - val_loss: 0.4462 - val_acc: 0.8358\n",
      "Epoch 144/150\n",
      " - 0s - loss: 0.3840 - acc: 0.8243 - val_loss: 0.4471 - val_acc: 0.8358\n",
      "Epoch 145/150\n",
      " - 0s - loss: 0.3868 - acc: 0.8375 - val_loss: 0.4476 - val_acc: 0.8358\n",
      "Epoch 146/150\n",
      " - 0s - loss: 0.3983 - acc: 0.8336 - val_loss: 0.4465 - val_acc: 0.8358\n",
      "Epoch 147/150\n",
      " - 0s - loss: 0.3888 - acc: 0.8243 - val_loss: 0.4452 - val_acc: 0.8358\n",
      "Epoch 148/150\n",
      " - 0s - loss: 0.3902 - acc: 0.8322 - val_loss: 0.4476 - val_acc: 0.8358\n",
      "Epoch 149/150\n",
      " - 0s - loss: 0.3842 - acc: 0.8415 - val_loss: 0.4477 - val_acc: 0.8358\n",
      "Epoch 150/150\n",
      " - 0s - loss: 0.3957 - acc: 0.8217 - val_loss: 0.4467 - val_acc: 0.8433\n"
     ]
    }
   ],
   "source": [
    "history = model.fit(x_train, np.array(y_train), validation_split = 0.15, epochs = 150, batch_size = 32, verbose = 2)"
   ]
  },
  {
   "cell_type": "code",
   "execution_count": 614,
   "metadata": {
    "collapsed": false
   },
   "outputs": [
    {
     "data": {
      "image/png": "[encoded data removed]",
      "text/plain": [
       "<matplotlib.figure.Figure at 0x16d351fcb70>"
      ]
     },
     "metadata": {},
     "output_type": "display_data"
    }
   ],
   "source": [
    "plt.plot(history.history['acc'])\n",
    "plt.plot(history.history['val_acc'])\n",
    "plt.title('model accuracy')\n",
    "plt.xlabel('epoch')\n",
    "plt.ylabel('accuracy')\n",
    "plt.legend(['train','test'], loc = 'upper left')\n",
    "plt.show()"
   ]
  },
  {
   "cell_type": "code",
   "execution_count": 615,
   "metadata": {
    "collapsed": false
   },
   "outputs": [
    {
     "data": {
      "image/png": "[encoded data removed]",
      "text/plain": [
       "<matplotlib.figure.Figure at 0x16d320eef98>"
      ]
     },
     "metadata": {},
     "output_type": "display_data"
    }
   ],
   "source": [
    "plt.plot(history.history['loss'])\n",
    "plt.plot(history.history['val_loss'])\n",
    "plt.title('model loss')\n",
    "plt.xlabel('epoch')\n",
    "plt.ylabel('loss')\n",
    "plt.legend(['train', 'test'], loc = 'upper left')\n",
    "plt.show()"
   ]
  },
  {
   "cell_type": "code",
   "execution_count": 616,
   "metadata": {
    "collapsed": false
   },
   "outputs": [
    {
     "name": "stdout",
     "output_type": "stream",
     "text": [
      "['988', '', '1', 'Cavendish, Mrs. Tyrell William (Julia Florence Siegel)', 'female', '76', '1', '0', '19877', '78.85', 'C46', 'S']\n"
     ]
    },
    {
     "name": "stderr",
     "output_type": "stream",
     "text": [
      "C:\\MiniConda\\envs\\dlnd\\lib\\site-packages\\sklearn\\preprocessing\\data.py:321: DeprecationWarning: Passing 1d arrays as data is deprecated in 0.17 and will raise ValueError in 0.19. Reshape your data either using X.reshape(-1, 1) if your data has a single feature or X.reshape(1, -1) if it contains a single sample.\n",
      "  warnings.warn(DEPRECATION_MSG_1D, DeprecationWarning)\n",
      "C:\\MiniConda\\envs\\dlnd\\lib\\site-packages\\sklearn\\preprocessing\\data.py:321: DeprecationWarning: Passing 1d arrays as data is deprecated in 0.17 and will raise ValueError in 0.19. Reshape your data either using X.reshape(-1, 1) if your data has a single feature or X.reshape(1, -1) if it contains a single sample.\n",
      "  warnings.warn(DEPRECATION_MSG_1D, DeprecationWarning)\n",
      "C:\\MiniConda\\envs\\dlnd\\lib\\site-packages\\sklearn\\preprocessing\\data.py:356: DeprecationWarning: Passing 1d arrays as data is deprecated in 0.17 and will raise ValueError in 0.19. Reshape your data either using X.reshape(-1, 1) if your data has a single feature or X.reshape(1, -1) if it contains a single sample.\n",
      "  warnings.warn(DEPRECATION_MSG_1D, DeprecationWarning)\n",
      "C:\\MiniConda\\envs\\dlnd\\lib\\site-packages\\sklearn\\preprocessing\\data.py:356: DeprecationWarning: Passing 1d arrays as data is deprecated in 0.17 and will raise ValueError in 0.19. Reshape your data either using X.reshape(-1, 1) if your data has a single feature or X.reshape(1, -1) if it contains a single sample.\n",
      "  warnings.warn(DEPRECATION_MSG_1D, DeprecationWarning)\n",
      "C:\\MiniConda\\envs\\dlnd\\lib\\site-packages\\sklearn\\preprocessing\\data.py:356: DeprecationWarning: Passing 1d arrays as data is deprecated in 0.17 and will raise ValueError in 0.19. Reshape your data either using X.reshape(-1, 1) if your data has a single feature or X.reshape(1, -1) if it contains a single sample.\n",
      "  warnings.warn(DEPRECATION_MSG_1D, DeprecationWarning)\n"
     ]
    }
   ],
   "source": [
    "row_num = 0\n",
    "testing_data = []\n",
    "x_test = []\n",
    "y_test = []\n",
    "\n",
    "# import test data\n",
    "with open('./data/test.csv', 'r') as test_data:\n",
    "    for line in csv.reader(test_data, delimiter=','):\n",
    "        if row_num > 0:\n",
    "            testing_data.append(line)\n",
    "\n",
    "        row_num += 1\n",
    "\n",
    "test_data.close()\n",
    "\n",
    "x_test, y_test = preprocess_data(testing_data, 1)\n",
    "print(testing_data[0])"
   ]
  },
  {
   "cell_type": "code",
   "execution_count": 617,
   "metadata": {
    "collapsed": false
   },
   "outputs": [],
   "source": [
    "preds = model.predict(x_test)"
   ]
  },
  {
   "cell_type": "code",
   "execution_count": 618,
   "metadata": {
    "collapsed": false
   },
   "outputs": [
    {
     "name": "stdout",
     "output_type": "stream",
     "text": [
      "[1, 0, 1, 1, 0, 0, 1, 0, 0, 0, 0, 1, 1, 1, 1, 1, 0, 0, 0, 1, 0, 0, 1, 0, 1, 1, 0, 1, 0, 0, 1, 0, 0, 0, 0, 1, 0, 0, 0, 0, 1, 1, 1, 1, 0, 1, 0, 0, 0, 0, 0, 0, 0, 1, 0, 1, 1, 1, 0, 1, 0, 0, 0, 0, 0, 1, 0, 0, 0, 0, 0, 0, 0, 0, 0, 0, 0, 0, 0, 0, 0, 0, 0, 0, 0, 0, 1, 1, 0, 0, 0, 0, 0, 0, 1, 0, 0, 1, 1, 0, 0, 1, 0, 0, 0, 0, 1, 0, 0, 1, 0, 0, 1, 0, 0, 0, 1, 0, 0, 0, 0, 0, 0, 0, 0, 0, 0, 0, 0, 1, 1, 1, 0, 0, 1, 1, 1, 1, 1, 0, 0, 0, 0, 0, 0, 0, 0, 1, 1, 0, 1, 0, 0, 0, 1, 0, 1, 0, 0, 0, 1, 1, 0, 0, 0, 1, 0, 0, 1, 1, 1, 0, 0, 0, 0, 0, 0, 0, 0, 0, 0, 0, 1, 0, 0, 1, 0, 1, 0, 1, 0, 0, 0, 0, 0, 1, 0, 0, 0, 0, 0, 0, 0, 0, 0, 1, 1, 0, 0, 1, 0, 1, 1, 0, 0, 0, 0, 0, 0, 0, 0, 1, 0, 1, 1, 1, 0, 1, 0, 0, 1, 0, 1, 0, 1, 1, 1, 1, 0, 1, 0, 0, 1, 0, 1, 0, 0, 0, 1, 0, 0, 0, 0, 0, 0, 0, 0, 0, 1, 0, 0, 1, 1, 0, 0, 1, 1, 1, 0, 1, 0, 1, 1, 1, 0, 1, 0, 0, 1, 1, 0, 1, 0, 0, 0, 0, 0, 1, 1, 1, 1, 1, 1, 0, 0, 0, 1, 0, 1, 1, 1, 0, 0, 0, 1, 0, 1, 1, 1, 0, 0, 0, 1, 1, 1, 1, 1, 1, 0, 1, 0, 1, 1, 1, 1, 1, 1, 1, 1, 1, 1, 1, 0, 0, 1, 0, 1, 0, 0, 0, 0, 1, 1, 0, 0, 0, 0, 0, 0, 0, 0, 1, 0, 0, 1, 0, 0, 0, 1, 0, 0, 0, 0, 1, 0, 0, 0, 0, 0, 1, 0, 0, 0, 0, 0, 1, 0, 1, 0, 1, 1, 0, 1, 0, 1, 0, 0, 0, 0, 1, 0, 0, 1, 0, 1, 0, 0, 0, 0, 1, 0, 0, 0, 0, 0, 1, 1, 0, 0, 0, 0, 0, 0, 0, 0, 0, 0, 0]\n"
     ]
    }
   ],
   "source": [
    "p_a = [int(round(pred[0])) for pred in preds]\n",
    "print(p_a)"
   ]
  },
  {
   "cell_type": "code",
   "execution_count": 619,
   "metadata": {
    "collapsed": false
   },
   "outputs": [
    {
     "name": "stdout",
     "output_type": "stream",
     "text": [
      "['1044', 0]\n"
     ]
    }
   ],
   "source": [
    "submission_data = []\n",
    "\n",
    "idx = 0\n",
    "\n",
    "for prediction in p_a:\n",
    "    submission_data.append([testing_data[idx][0], prediction])\n",
    "    idx += 1\n",
    "\n",
    "print(submission_data[10])"
   ]
  },
  {
   "cell_type": "code",
   "execution_count": 620,
   "metadata": {
    "collapsed": false
   },
   "outputs": [],
   "source": [
    "with open('./data/submission.csv', 'w', newline='') as submit_file:\n",
    "    wr = csv.writer(submit_file, quoting=csv.QUOTE_ALL)\n",
    "    wr.writerows(submission_data)"
   ]
  },
  {
   "cell_type": "code",
   "execution_count": null,
   "metadata": {
    "collapsed": true
   },
   "outputs": [],
   "source": []
  }
 ],
 "metadata": {
  "kernelspec": {
   "display_name": "Python 3",
   "language": "python",
   "name": "python3"
  },
  "language_info": {
   "codemirror_mode": {
    "name": "ipython",
    "version": 3
   },
   "file_extension": ".py",
   "mimetype": "text/x-python",
   "name": "python",
   "nbconvert_exporter": "python",
   "pygments_lexer": "ipython3",
   "version": "3.5.2"
  }
 },
 "nbformat": 4,
 "nbformat_minor": 2
}
